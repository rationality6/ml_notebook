{
  "nbformat": 4,
  "nbformat_minor": 0,
  "metadata": {
    "colab": {
      "name": "Untitled1.ipynb",
      "version": "0.3.2",
      "provenance": []
    },
    "kernelspec": {
      "name": "python3",
      "display_name": "Python 3"
    }
  },
  "cells": [
    {
      "cell_type": "markdown",
      "metadata": {
        "id": "view-in-github",
        "colab_type": "text"
      },
      "source": [
        "[View in Colaboratory](https://colab.research.google.com/github/rationality6/ml_notebook/blob/master/Untitled1.ipynb)"
      ]
    },
    {
      "metadata": {
        "id": "WL7Bk21da_sK",
        "colab_type": "code",
        "colab": {}
      },
      "cell_type": "code",
      "source": [
        "import tensorflow as tf\n",
        "import numpy as np\n",
        "import math\n",
        "import matplotlib.pyplot as plt"
      ],
      "execution_count": 0,
      "outputs": []
    },
    {
      "metadata": {
        "id": "htWTAlPZgPMv",
        "colab_type": "code",
        "colab": {
          "base_uri": "https://localhost:8080/",
          "height": 34
        },
        "outputId": "f9880087-030f-40c1-9413-d13cdb2e0a12"
      },
      "cell_type": "code",
      "source": [
        "print(tf.__version__)"
      ],
      "execution_count": 3,
      "outputs": [
        {
          "output_type": "stream",
          "text": [
            "1.8.0\n"
          ],
          "name": "stdout"
        }
      ]
    },
    {
      "metadata": {
        "id": "VaV528tNgSYf",
        "colab_type": "code",
        "colab": {
          "base_uri": "https://localhost:8080/",
          "height": 364
        },
        "outputId": "84864e08-5e2a-4027-fa25-b7d5f015aecd"
      },
      "cell_type": "code",
      "source": [
        "x = [*range(-10,11)]\n",
        "y = [*map(lambda g:1/(1+math.exp(-g)),x)]\n",
        "\n",
        "plt.plot(x,y)"
      ],
      "execution_count": 33,
      "outputs": [
        {
          "output_type": "execute_result",
          "data": {
            "text/plain": [
              "[<matplotlib.lines.Line2D at 0x7ff02f75d9b0>]"
            ]
          },
          "metadata": {
            "tags": []
          },
          "execution_count": 33
        },
        {
          "output_type": "display_data",
          "data": {
            "image/png": "[encoded data removed]",
            "text/plain": [
              "<matplotlib.figure.Figure at 0x7ff02f78f0b8>"
            ]
          },
          "metadata": {
            "tags": []
          }
        }
      ]
    },
    {
      "metadata": {
        "id": "tGn3NxL1hsnj",
        "colab_type": "code",
        "colab": {
          "base_uri": "https://localhost:8080/",
          "height": 238
        },
        "outputId": "c8b79d70-28bc-410b-c5b4-06964ac58ddc"
      },
      "cell_type": "code",
      "source": [
        "x = tf.placeholder(tf.float32, shape=(1024,1024))\n",
        "y = tf.matmul(x,x)\n",
        "\n",
        "sess = tf.Session()\n",
        "rand_array = np.random.rand(1024,1024)\n",
        "\n",
        "sess.run(y,feed_dict={x:rand_array})\n"
      ],
      "execution_count": 25,
      "outputs": [
        {
          "output_type": "execute_result",
          "data": {
            "text/plain": [
              "array([[266.29163, 261.89   , 260.10043, ..., 256.2988 , 260.73138,\n",
              "        255.34929],\n",
              "       [267.02087, 260.6195 , 261.22058, ..., 257.85703, 262.6597 ,\n",
              "        258.64865],\n",
              "       [269.35944, 269.42682, 265.12723, ..., 261.24765, 268.55008,\n",
              "        263.7763 ],\n",
              "       ...,\n",
              "       [265.2872 , 263.3455 , 264.45953, ..., 257.20685, 257.7874 ,\n",
              "        259.4096 ],\n",
              "       [261.1695 , 261.1312 , 259.59396, ..., 255.91153, 247.54164,\n",
              "        256.55298],\n",
              "       [271.00018, 268.7265 , 263.04065, ..., 266.55115, 265.70578,\n",
              "        260.74246]], dtype=float32)"
            ]
          },
          "metadata": {
            "tags": []
          },
          "execution_count": 25
        }
      ]
    },
    {
      "metadata": {
        "id": "rtMlAO3cn4mv",
        "colab_type": "code",
        "colab": {
          "base_uri": "https://localhost:8080/",
          "height": 364
        },
        "outputId": "2f0bb5da-737f-4e44-c872-b89483dc23e5"
      },
      "cell_type": "code",
      "source": [
        "x = [*range(-10,11)]\n",
        "y = [*map(lambda g: max(0,g),x)]\n",
        "\n",
        "plt.plot(x,y)"
      ],
      "execution_count": 34,
      "outputs": [
        {
          "output_type": "execute_result",
          "data": {
            "text/plain": [
              "[<matplotlib.lines.Line2D at 0x7ff02f6ce0b8>]"
            ]
          },
          "metadata": {
            "tags": []
          },
          "execution_count": 34
        },
        {
          "output_type": "display_data",
          "data": {
            "image/png": "[encoded data removed]",
            "text/plain": [
              "<matplotlib.figure.Figure at 0x7ff02f767198>"
            ]
          },
          "metadata": {
            "tags": []
          }
        }
      ]
    },
    {
      "metadata": {
        "id": "hL0oIEt0pQVI",
        "colab_type": "code",
        "colab": {
          "base_uri": "https://localhost:8080/",
          "height": 51
        },
        "outputId": "4960e8e1-2b68-40a0-ad35-6271ef9eb9a8"
      },
      "cell_type": "code",
      "source": [
        "ph = tf.placeholder(tf.float32,shape=[3,3])\n",
        "var = tf.Variable([1,2,3,4,5],dtype=tf.float32)\n",
        "const = tf.constant([10,20,30,40,50],dtype=tf.float32)\n",
        "\n",
        "a = tf.constant([5])\n",
        "b = tf.constant([10])\n",
        "c = tf.constant([2])\n",
        "\n",
        "d = a * b + c\n",
        "\n",
        "print(d)\n",
        "\n",
        "sess = tf.Session()\n",
        "sess.run(d)"
      ],
      "execution_count": 46,
      "outputs": [
        {
          "output_type": "stream",
          "text": [
            "Tensor(\"add_3:0\", shape=(1,), dtype=int32)\n"
          ],
          "name": "stdout"
        },
        {
          "output_type": "execute_result",
          "data": {
            "text/plain": [
              "array([52], dtype=int32)"
            ]
          },
          "metadata": {
            "tags": []
          },
          "execution_count": 46
        }
      ]
    },
    {
      "metadata": {
        "id": "wblNMpFZz1uZ",
        "colab_type": "code",
        "colab": {
          "base_uri": "https://localhost:8080/",
          "height": 51
        },
        "outputId": "65ed303a-7e45-4397-a70b-796762e7baab"
      },
      "cell_type": "code",
      "source": [
        "var0 = tf.Variable([5])\n",
        "var1 = tf.Variable([3])\n",
        "var2 = tf.Variable([2])\n",
        "\n",
        "result = var0 * var1 + var2\n",
        "\n",
        "init = tf.global_variables_initializer()\n",
        "\n",
        "print(result)\n",
        "sess.run(init)\n",
        "sess.run(result)\n"
      ],
      "execution_count": 52,
      "outputs": [
        {
          "output_type": "stream",
          "text": [
            "Tensor(\"add_9:0\", shape=(1,), dtype=int32)\n"
          ],
          "name": "stdout"
        },
        {
          "output_type": "execute_result",
          "data": {
            "text/plain": [
              "array([17], dtype=int32)"
            ]
          },
          "metadata": {
            "tags": []
          },
          "execution_count": 52
        }
      ]
    },
    {
      "metadata": {
        "id": "K7J7rgTp5pEa",
        "colab_type": "code",
        "colab": {}
      },
      "cell_type": "code",
      "source": [
        "value0 = 5\n",
        "value1 = 3\n",
        "value2 = 2\n",
        "\n",
        "ph0 = tf.placeholder(dtype=tf.float32)\n",
        "ph1 = tf.placeholder(dtype=tf.float32)\n",
        "ph2 = tf.placeholder(dtype=tf.float32)\n",
        "\n",
        "ph3 = ph0 * ph1 + ph2\n",
        "\n",
        "feed_dict = [ph0:value0,ph1:value1,ph2,value2]\n",
        "\n",
        "sess.run()\n"
      ],
      "execution_count": 0,
      "outputs": []
    }
  ]
}