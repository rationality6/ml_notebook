{
  "nbformat": 4,
  "nbformat_minor": 0,
  "metadata": {
    "colab": {
      "name": "perceptron_basic.ipynb",
      "version": "0.3.2",
      "provenance": []
    }
  },
  "cells": [
    {
      "cell_type": "markdown",
      "metadata": {
        "id": "view-in-github",
        "colab_type": "text"
      },
      "source": [
        "[View in Colaboratory](https://colab.research.google.com/github/rationality6/ml_notebook/blob/master/perceptron_basic.ipynb)"
      ]
    },
    {
      "metadata": {
        "id": "zfXKkj5oXLMP",
        "colab_type": "code",
        "colab": {}
      },
      "cell_type": "code",
      "source": [
        "import numpy as np"
      ],
      "execution_count": 0,
      "outputs": []
    },
    {
      "metadata": {
        "id": "Bqgio2IuhOFu",
        "colab_type": "code",
        "colab": {
          "base_uri": "https://localhost:8080/",
          "height": 85
        },
        "outputId": "02985a3b-cb8e-4578-88bc-4f0f37a378df"
      },
      "cell_type": "code",
      "source": [
        "def AND(x1,x2):\n",
        "  w1,w2,theta = 0.5,0.5,0.7\n",
        "  tmp = x1*w1 + x2*w2\n",
        "  if tmp <= theta:\n",
        "    return 0\n",
        "  elif tmp > theta:\n",
        "    return 1\n",
        "\n",
        "print(AND(0,0))\n",
        "print(AND(1,0))\n",
        "print(AND(0,1))\n",
        "print(AND(1,1))"
      ],
      "execution_count": 22,
      "outputs": [
        {
          "output_type": "stream",
          "text": [
            "0\n",
            "0\n",
            "0\n",
            "1\n"
          ],
          "name": "stdout"
        }
      ]
    },
    {
      "metadata": {
        "id": "5eUtyB6qhAd-",
        "colab_type": "code",
        "colab": {
          "base_uri": "https://localhost:8080/",
          "height": 34
        },
        "outputId": "4c6b717c-ead4-4970-d982-695c4b2feb79"
      },
      "cell_type": "code",
      "source": [
        "x = np.array([0,1])\n",
        "w = np.array([0.5,0.5])\n",
        "b = -0.7\n",
        "w*x\n",
        "np.sum(w*x)\n",
        "np.sum(w*x) + b\n",
        "\n",
        "\n"
      ],
      "execution_count": 29,
      "outputs": [
        {
          "output_type": "execute_result",
          "data": {
            "text/plain": [
              "-0.19999999999999996"
            ]
          },
          "metadata": {
            "tags": []
          },
          "execution_count": 29
        }
      ]
    },
    {
      "metadata": {
        "id": "bwxNlnVmh9Dh",
        "colab_type": "code",
        "colab": {
          "base_uri": "https://localhost:8080/",
          "height": 153
        },
        "outputId": "46f3b4c4-febd-423e-d2c7-d42cfa2a2fa9"
      },
      "cell_type": "code",
      "source": [
        "def AND(x1,x2):\n",
        "  x = np.array([x1,x2])\n",
        "  w = np.array([0.5,0.5])\n",
        "  b = -0.7\n",
        "  tmp = np.sum(w*x) +b\n",
        "  \n",
        "  print(tmp)\n",
        "  \n",
        "  if tmp <= 0:\n",
        "    return 0\n",
        "  else:\n",
        "    return 1\n",
        "\n",
        "print(AND(0,0))\n",
        "print(AND(1,0))\n",
        "print(AND(0,1))\n",
        "print(AND(1,1))"
      ],
      "execution_count": 37,
      "outputs": [
        {
          "output_type": "stream",
          "text": [
            "-0.7\n",
            "0\n",
            "-0.19999999999999996\n",
            "0\n",
            "-0.19999999999999996\n",
            "0\n",
            "0.30000000000000004\n",
            "1\n"
          ],
          "name": "stdout"
        }
      ]
    },
    {
      "metadata": {
        "id": "_etEEKmwuphf",
        "colab_type": "code",
        "colab": {
          "base_uri": "https://localhost:8080/",
          "height": 323
        },
        "outputId": "5bec55eb-a695-4b55-8431-a35ecd7f6c15"
      },
      "cell_type": "code",
      "source": [
        "def NAND(x1,x2):\n",
        "  x = np.array([x1,x2])\n",
        "  w = np.array([-0.5,-0.5])\n",
        "  b = 0.7\n",
        "  \n",
        "  tmp = np.sum(w*x) + b\n",
        "  print(tmp)\n",
        "  if tmp <= 0:\n",
        "    return 0\n",
        "  else:\n",
        "    return 1\n",
        "  \n",
        "def OR(x1,x2):\n",
        "  x = np.array([x1,x2])\n",
        "  w = np.array([0.5,0.5])\n",
        "  b = -0.2\n",
        "  tmp = np.sum(w*x) + b\n",
        "  print(tmp)\n",
        "  if tmp <= 0:\n",
        "    return 0\n",
        "  else:\n",
        "    return 1\n",
        "  \n",
        "print(\"nand\")\n",
        "print(NAND(0,0))\n",
        "print(NAND(1,0))\n",
        "print(NAND(0,1))\n",
        "print(NAND(1,1))\n",
        "print(\"or\")\n",
        "print(OR(0,0))\n",
        "print(OR(1,0))\n",
        "print(OR(0,1))\n",
        "print(OR(1,1))"
      ],
      "execution_count": 45,
      "outputs": [
        {
          "output_type": "stream",
          "text": [
            "nand\n",
            "0.7\n",
            "1\n",
            "0.19999999999999996\n",
            "1\n",
            "0.19999999999999996\n",
            "1\n",
            "-0.30000000000000004\n",
            "0\n",
            "or\n",
            "-0.2\n",
            "0\n",
            "0.3\n",
            "1\n",
            "0.3\n",
            "1\n",
            "0.8\n",
            "1\n"
          ],
          "name": "stdout"
        }
      ]
    },
    {
      "metadata": {
        "id": "_AP5X3O-swtf",
        "colab_type": "code",
        "colab": {
          "base_uri": "https://localhost:8080/",
          "height": 289
        },
        "outputId": "d83d8581-fe12-4dc2-f499-a018821aa024"
      },
      "cell_type": "code",
      "source": [
        "def XOR(x1,x2):\n",
        "  result_nand = NAND(x1,x2)\n",
        "  result_or = OR(x1,x2)\n",
        "  result = AND(result_nand,result_or)\n",
        "  return result\n",
        "  \n",
        "print(XOR(0,0))\n",
        "print(XOR(0,1))\n",
        "print(XOR(1,0))\n",
        "print(XOR(1,1))"
      ],
      "execution_count": 50,
      "outputs": [
        {
          "output_type": "stream",
          "text": [
            "0.7\n",
            "-0.2\n",
            "-0.19999999999999996\n",
            "0\n",
            "0.19999999999999996\n",
            "0.3\n",
            "0.30000000000000004\n",
            "1\n",
            "0.19999999999999996\n",
            "0.3\n",
            "0.30000000000000004\n",
            "1\n",
            "-0.30000000000000004\n",
            "0.8\n",
            "-0.19999999999999996\n",
            "0\n"
          ],
          "name": "stdout"
        }
      ]
    }
  ]
}